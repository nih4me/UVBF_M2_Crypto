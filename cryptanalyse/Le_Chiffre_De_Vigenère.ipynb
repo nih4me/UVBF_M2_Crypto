{
 "cells": [
  {
   "cell_type": "markdown",
   "id": "6e32a7dd-4fe3-4471-96bc-346c1b181ccf",
   "metadata": {},
   "source": [
    "## Le chiffre de Vigenère"
   ]
  },
  {
   "cell_type": "markdown",
   "id": "4f54721c-868b-485b-a098-d09f52950cfc",
   "metadata": {},
   "source": [
    "Le chiffre de Vigenère (1586) qui utilise le chiffre de César sauf que le décalage de chaque lettre du texte en clair est dépendant de la position de celle-ci dans le texte. Ce décalage est calculé à l’aide d’une clé secrète. Cet algorithme, contrairement au précédent, résiste à l’analyse par fréquences mais a été cassé par Kasiski en 1863."
   ]
  },
  {
   "cell_type": "code",
   "execution_count": 36,
   "id": "5b6ab5ca-96a0-4b78-9392-5a3b157c5df1",
   "metadata": {},
   "outputs": [
    {
     "data": {
      "text/plain": [
       "277"
      ]
     },
     "execution_count": 36,
     "metadata": {},
     "output_type": "execute_result"
    }
   ],
   "source": [
    "1863 - 1586"
   ]
  },
  {
   "cell_type": "markdown",
   "id": "6ea5c20e-7d6a-4ec5-9134-8cbda12f1aaa",
   "metadata": {},
   "source": [
    "### Exemple NAIF"
   ]
  },
  {
   "cell_type": "code",
   "execution_count": null,
   "id": "995c7804-e2ee-492b-8932-110fbb84e271",
   "metadata": {},
   "outputs": [],
   "source": [
    "BONJOUR\n",
    "\n",
    "CQQNTAY\n",
    "\n",
    "BONJOUR"
   ]
  },
  {
   "cell_type": "markdown",
   "id": "00598dc6-df50-4d81-b34b-dd76ba246574",
   "metadata": {},
   "source": [
    "Brute-Force\n",
    "25^7"
   ]
  },
  {
   "cell_type": "code",
   "execution_count": 2,
   "id": "6815de85-ff25-4977-b559-9380c8c66945",
   "metadata": {},
   "outputs": [
    {
     "data": {
      "text/plain": [
       "6103515625"
      ]
     },
     "execution_count": 2,
     "metadata": {},
     "output_type": "execute_result"
    }
   ],
   "source": [
    "25**7"
   ]
  },
  {
   "cell_type": "markdown",
   "id": "480bbd61-c512-457d-bb54-133acab3f710",
   "metadata": {},
   "source": [
    "### Vrai algorithme de VIGENERE\n",
    "![](asciitable.jpeg)"
   ]
  },
  {
   "cell_type": "markdown",
   "id": "5a86c59a-564f-4ead-b981-08f84aca5a7a",
   "metadata": {},
   "source": [
    "phrase en claire = BONJOUR"
   ]
  },
  {
   "cell_type": "markdown",
   "id": "74502980-2bf3-4ef8-804d-a0f22da5d710",
   "metadata": {},
   "source": [
    "cle = UVBF"
   ]
  },
  {
   "cell_type": "markdown",
   "id": "405dff67-8ce6-4a8a-af72-a24c90fc309c",
   "metadata": {},
   "source": [
    "cle réellement utilisée = UVBFUVB"
   ]
  },
  {
   "cell_type": "markdown",
   "id": "1e2443c7-9127-4a58-8443-3bf5efe563d3",
   "metadata": {},
   "source": [
    "M = BONJOUR\n",
    "K = UVBFUVB\n",
    "\n",
    "Pour chiffrer B dans M, on utilise la lettre U de la clé K.\n",
    "(ord('B') + ord('U')) % 26 + ord('A') = ord(V)\n",
    "\n",
    "ord(B) = 66\n",
    "ord(U) = 85\n",
    "66 + 85 = 151\n",
    "151 % 26 = 21\n",
    "21 + ord(A) = 21 + 65 = 86\n",
    "V\n",
    "\n",
    "\n",
    "\n",
    "\n",
    "ord(A) = 65\n",
    "ord(Z) = 90\n",
    "65 - 90 = -25\n",
    "-25 + 26 = 1\n",
    "1 % "
   ]
  },
  {
   "cell_type": "code",
   "execution_count": null,
   "id": "1a74b202-84c9-411c-aff8-06839ec86e96",
   "metadata": {},
   "outputs": [],
   "source": []
  },
  {
   "cell_type": "code",
   "execution_count": 32,
   "id": "19598145-4331-4b85-8dfb-48eaeb2c328f",
   "metadata": {},
   "outputs": [
    {
     "data": {
      "text/plain": [
       "21"
      ]
     },
     "execution_count": 32,
     "metadata": {},
     "output_type": "execute_result"
    }
   ],
   "source": [
    "151%26"
   ]
  },
  {
   "cell_type": "markdown",
   "id": "4d561cac-bb69-4814-b4d2-cb9bfbec656f",
   "metadata": {},
   "source": [
    "### Implementation VIGENERE"
   ]
  },
  {
   "cell_type": "code",
   "execution_count": 9,
   "id": "d8730961-a3af-410c-941d-73fd00f50016",
   "metadata": {},
   "outputs": [],
   "source": [
    "def generation_cle(message, cle):\n",
    "    cle = list(cle)\n",
    "    if len(message) == len(cle):\n",
    "        return (cle)\n",
    "    else:\n",
    "        for i in range(len(message) - len(cle)):\n",
    "            cle.append(cle[i % len(cle)])\n",
    "\t\n",
    "    return (''.join(cle))"
   ]
  },
  {
   "cell_type": "code",
   "execution_count": 46,
   "id": "67f5eb13-2b83-45fa-b703-6b0f4e0547fc",
   "metadata": {},
   "outputs": [
    {
     "data": {
      "text/plain": [
       "'UVBFUVBFUVBFUVBFUVBFUVBFUVBFUV'"
      ]
     },
     "execution_count": 46,
     "metadata": {},
     "output_type": "execute_result"
    }
   ],
   "source": [
    "generation_cle('BONJOURLEMONDECOMMENTALLEZVOUS', 'UVBF')"
   ]
  },
  {
   "cell_type": "code",
   "execution_count": 14,
   "id": "0cbdb187-9358-4aaf-ad08-3fa9c332ccfc",
   "metadata": {},
   "outputs": [],
   "source": [
    "def chiffrement_vigenere(message, cle):\n",
    "    message_chiffre = []\n",
    "\t\n",
    "    for i in range(len(message)):\n",
    "        x = (ord(message[i]) + ord(cle[i])) % 26\n",
    "        x += ord('A')\n",
    "        message_chiffre.append(chr(x))\n",
    "\t\n",
    "    return (''.join(message_chiffre))"
   ]
  },
  {
   "cell_type": "code",
   "execution_count": 47,
   "id": "02c1ff02-0316-4409-9e21-8375d680e280",
   "metadata": {},
   "outputs": [
    {
     "data": {
      "text/plain": [
       "'VJOOIPSQYHPSXZDTGHFSNVMQYUWTON'"
      ]
     },
     "execution_count": 47,
     "metadata": {},
     "output_type": "execute_result"
    }
   ],
   "source": [
    "chiffrement_vigenere('BONJOURLEMONDECOMMENTALLEZVOUS', 'UVBFUVBFUVBFUVBFUVBFUVBFUVBFUV')"
   ]
  },
  {
   "cell_type": "code",
   "execution_count": 15,
   "id": "9d833650-f21e-45e4-903a-814435d612de",
   "metadata": {},
   "outputs": [],
   "source": [
    "def dechiffrement_vigenere(message_chiffre, cle):\n",
    "    message = []\n",
    "\t\n",
    "    for i in range(len(message_chiffre)):\n",
    "        x = (ord(message_chiffre[i]) - ord(cle[i]) + 26) % 26\n",
    "        x += ord('A')\n",
    "        message.append(chr(x))\n",
    "        \n",
    "    return (''.join(message))"
   ]
  },
  {
   "cell_type": "code",
   "execution_count": 35,
   "id": "dd342830-4766-48a5-a46d-c6e2e0cc65fd",
   "metadata": {},
   "outputs": [
    {
     "data": {
      "text/plain": [
       "'BONJOUR'"
      ]
     },
     "execution_count": 35,
     "metadata": {},
     "output_type": "execute_result"
    }
   ],
   "source": [
    "dechiffrement_vigenere('VJOOIPS', 'UVBFUVB')"
   ]
  },
  {
   "cell_type": "code",
   "execution_count": null,
   "id": "58c7a6ae-3b1e-44d4-bec2-645705fe3c41",
   "metadata": {},
   "outputs": [],
   "source": [
    "VJOOIPS"
   ]
  },
  {
   "cell_type": "markdown",
   "id": "492792e0-f6f1-42f8-b1b9-163fdfb9ffa7",
   "metadata": {},
   "source": [
    "1. On connait uniquement le message chiffré : VJOOIPS de taille 7\n",
    "    - Brute-Force\n",
    "    - 26^7 tentatives = plus de 8 milliards de tentatives (au pire)\n",
    "2. En plus du message chiffré, on connait la taille de la clé K.\n",
    "    - Taille de K = 4\n",
    "    - Brute-Force\n",
    "    - 26^4 tentatives = moins de 500,000 tentatives (au pire). "
   ]
  },
  {
   "cell_type": "markdown",
   "id": "a9625a07-0524-4e4a-814e-97e5df25cff2",
   "metadata": {},
   "source": [
    "### Comment trouver donc la taille de la clé ?"
   ]
  },
  {
   "cell_type": "markdown",
   "id": "30f399da-0bbe-4832-8e3a-045bd11feeea",
   "metadata": {},
   "source": [
    "VJOOIPSQYHPSXZDTGHFSNVMQYUWTON\n",
    "\n",
    "- VOSHXTFV\n",
    "- JIQPZGSM\n",
    "- OPYSDHNQ"
   ]
  },
  {
   "cell_type": "markdown",
   "id": "412dd3c4-cfeb-49d9-8313-b476660795ef",
   "metadata": {},
   "source": [
    "VJOOIPS"
   ]
  },
  {
   "cell_type": "markdown",
   "id": "6a9cd2aa-57ec-4007-ab26-86c31b788a79",
   "metadata": {},
   "source": [
    "taille de la clé entre 1 et 7"
   ]
  },
  {
   "cell_type": "markdown",
   "id": "0ca36708-f974-4ed2-8bdb-322a87cca550",
   "metadata": {},
   "source": [
    "Test d'une clé de taille 3\n",
    "\n",
    "Constitution de 3 sous textes\n",
    "\n",
    "- T1. VOS\n",
    "- T2. JI\n",
    "- T3. OP\n",
    "\n",
    "Calculer l'indice de coincidence pour chaque sous texte\n",
    "\n",
    "![](ic.png)"
   ]
  },
  {
   "cell_type": "markdown",
   "id": "a3fd7e88-ea8e-4391-8f8c-dd392c4a7c39",
   "metadata": {},
   "source": [
    "Pour T1\n",
    "IC = 0\n",
    "\n",
    "Pour T2.\n",
    "IC = 0\n",
    "\n",
    "Pour T3.\n",
    "IC = 0"
   ]
  }
 ],
 "metadata": {
  "kernelspec": {
   "display_name": "Python 3 (ipykernel)",
   "language": "python",
   "name": "python3"
  },
  "language_info": {
   "codemirror_mode": {
    "name": "ipython",
    "version": 3
   },
   "file_extension": ".py",
   "mimetype": "text/x-python",
   "name": "python",
   "nbconvert_exporter": "python",
   "pygments_lexer": "ipython3",
   "version": "3.9.13"
  }
 },
 "nbformat": 4,
 "nbformat_minor": 5
}
