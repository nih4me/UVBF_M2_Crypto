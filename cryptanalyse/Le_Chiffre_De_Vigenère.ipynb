{
 "cells": [
  {
   "cell_type": "markdown",
   "id": "6e32a7dd-4fe3-4471-96bc-346c1b181ccf",
   "metadata": {},
   "source": [
    "## Le chiffre de Vigenère"
   ]
  },
  {
   "cell_type": "markdown",
   "id": "4f54721c-868b-485b-a098-d09f52950cfc",
   "metadata": {},
   "source": [
    "Le chiffre de Vigenère (1586) qui utilise le chiffre de César sauf que le décalage de chaque lettre du texte en clair est dépendant de la position de celle-ci dans le texte. Ce décalage est calculé à l’aide d’une clé secrète. Cet algorithme, contrairement au précédent, résiste à l’analyse par fréquences mais a été cassé par Kasiski en 1863."
   ]
  },
  {
   "cell_type": "code",
   "execution_count": null,
   "id": "995c7804-e2ee-492b-8932-110fbb84e271",
   "metadata": {},
   "outputs": [],
   "source": [
    "CQQNTAY"
   ]
  },
  {
   "cell_type": "markdown",
   "id": "00598dc6-df50-4d81-b34b-dd76ba246574",
   "metadata": {},
   "source": [
    "Brute-Force\n",
    "25^7"
   ]
  },
  {
   "cell_type": "code",
   "execution_count": 2,
   "id": "6815de85-ff25-4977-b559-9380c8c66945",
   "metadata": {},
   "outputs": [
    {
     "data": {
      "text/plain": [
       "6103515625"
      ]
     },
     "execution_count": 2,
     "metadata": {},
     "output_type": "execute_result"
    }
   ],
   "source": [
    "25**7"
   ]
  }
 ],
 "metadata": {
  "kernelspec": {
   "display_name": "Python 3 (ipykernel)",
   "language": "python",
   "name": "python3"
  },
  "language_info": {
   "codemirror_mode": {
    "name": "ipython",
    "version": 3
   },
   "file_extension": ".py",
   "mimetype": "text/x-python",
   "name": "python",
   "nbconvert_exporter": "python",
   "pygments_lexer": "ipython3",
   "version": "3.9.13"
  }
 },
 "nbformat": 4,
 "nbformat_minor": 5
}
