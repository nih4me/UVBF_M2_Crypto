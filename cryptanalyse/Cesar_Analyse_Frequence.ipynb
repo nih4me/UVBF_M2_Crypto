{
 "cells": [
  {
   "cell_type": "code",
   "execution_count": 1,
   "id": "d91fdcaa-5241-4848-a87d-e5971e92d1a9",
   "metadata": {},
   "outputs": [],
   "source": [
    "message_chiffre = 'WYWC YMN FY WIOLM XY WLSJNIALUJBCY JIOL FYM YNOXCUHNM XY GUMNYL'"
   ]
  },
  {
   "cell_type": "code",
   "execution_count": 2,
   "id": "268ce64d-e572-4c02-931a-1286cf1d9c5f",
   "metadata": {},
   "outputs": [],
   "source": [
    "lettres = 'ABCDEFGHIJKLMNOPQRSTUVWXYZ'"
   ]
  },
  {
   "cell_type": "code",
   "execution_count": 3,
   "id": "7cb8592b-3409-47f5-bdc2-1bcfcb8b9547",
   "metadata": {},
   "outputs": [],
   "source": [
    "from collections import Counter"
   ]
  },
  {
   "cell_type": "code",
   "execution_count": 4,
   "id": "ae461377-dd0f-4c83-afe2-bc41244bb5c6",
   "metadata": {},
   "outputs": [],
   "source": [
    "counter = Counter(message_chiffre)"
   ]
  },
  {
   "cell_type": "code",
   "execution_count": 8,
   "id": "6b026df3-ae9e-4ec6-86db-4bb70e9dcec6",
   "metadata": {},
   "outputs": [],
   "source": [
    "frequence_lettres = dict()\n",
    "for l in lettres:\n",
    "    frequence_lettres[l] = counter[l]"
   ]
  },
  {
   "cell_type": "code",
   "execution_count": 10,
   "id": "5b7080d1-dde1-4e98-a01e-0197d4bfadfa",
   "metadata": {},
   "outputs": [
    {
     "data": {
      "text/plain": [
       "[('Y', 9),\n",
       " ('L', 5),\n",
       " ('M', 5),\n",
       " ('N', 5),\n",
       " ('W', 4),\n",
       " ('C', 3),\n",
       " ('I', 3),\n",
       " ('J', 3),\n",
       " ('O', 3),\n",
       " ('U', 3),\n",
       " ('X', 3),\n",
       " ('F', 2),\n",
       " ('A', 1),\n",
       " ('B', 1),\n",
       " ('G', 1),\n",
       " ('H', 1),\n",
       " ('S', 1),\n",
       " ('D', 0),\n",
       " ('E', 0),\n",
       " ('K', 0),\n",
       " ('P', 0),\n",
       " ('Q', 0),\n",
       " ('R', 0),\n",
       " ('T', 0),\n",
       " ('V', 0),\n",
       " ('Z', 0)]"
      ]
     },
     "execution_count": 10,
     "metadata": {},
     "output_type": "execute_result"
    }
   ],
   "source": [
    "sorted(frequence_lettres.items(), key=lambda i: i[1], reverse=True)"
   ]
  },
  {
   "cell_type": "markdown",
   "id": "a6000307-8527-495e-9f9c-69a503a3eb81",
   "metadata": {},
   "source": [
    "![](freq_lettres_francais.png)"
   ]
  },
  {
   "cell_type": "code",
   "execution_count": 22,
   "id": "bf175c37-0892-4ae0-bb2c-eb69bd62ae93",
   "metadata": {},
   "outputs": [
    {
     "data": {
      "text/plain": [
       "97"
      ]
     },
     "execution_count": 22,
     "metadata": {},
     "output_type": "execute_result"
    }
   ],
   "source": [
    "# E (5) -> Y (25) soit un decallage de 20\n",
    "ord('A') # Retorune la valeur ascii (DEC)"
   ]
  },
  {
   "cell_type": "code",
   "execution_count": 28,
   "id": "903fc918-cded-49ef-9dab-7e7e3a1b8b46",
   "metadata": {},
   "outputs": [
    {
     "data": {
      "text/plain": [
       "True"
      ]
     },
     "execution_count": 28,
     "metadata": {},
     "output_type": "execute_result"
    }
   ],
   "source": [
    "'a'.isalpha() # Verifie si un `char` est une lettre ou pas."
   ]
  },
  {
   "cell_type": "code",
   "execution_count": 29,
   "id": "4f542268-f8e7-4fdc-b30e-6d196e174c2b",
   "metadata": {},
   "outputs": [
    {
     "data": {
      "text/plain": [
       "89"
      ]
     },
     "execution_count": 29,
     "metadata": {},
     "output_type": "execute_result"
    }
   ],
   "source": [
    "ord('E') + 20"
   ]
  },
  {
   "cell_type": "code",
   "execution_count": 31,
   "id": "21c9f490-4e4e-4426-a24e-417ef05b1179",
   "metadata": {},
   "outputs": [
    {
     "data": {
      "text/plain": [
       "'Y'"
      ]
     },
     "execution_count": 31,
     "metadata": {},
     "output_type": "execute_result"
    }
   ],
   "source": [
    "chr(89) # Passer de ascii (DEC) á caractère"
   ]
  },
  {
   "cell_type": "code",
   "execution_count": 52,
   "id": "a052748c-9fe7-4be3-917b-f8d97ad84d35",
   "metadata": {},
   "outputs": [
    {
     "name": "stdout",
     "output_type": "stream",
     "text": [
      "83\n"
     ]
    }
   ],
   "source": [
    "if (ord('Y') + 20) > ord('Z'):\n",
    "    print((ord('Y') + 20) - 26)\n",
    "else:\n",
    "    print((ord('Y') + 20))"
   ]
  },
  {
   "cell_type": "code",
   "execution_count": 53,
   "id": "2ca3e8c8-1929-4cd2-bb55-04374ca7813d",
   "metadata": {},
   "outputs": [
    {
     "data": {
      "text/plain": [
       "'S'"
      ]
     },
     "execution_count": 53,
     "metadata": {},
     "output_type": "execute_result"
    }
   ],
   "source": [
    "chr(83)"
   ]
  },
  {
   "cell_type": "code",
   "execution_count": 65,
   "id": "31887587-00cd-497b-a8d6-0901cb219952",
   "metadata": {},
   "outputs": [],
   "source": [
    "def cesar(message, decallage):\n",
    "    nouveau_message = ''\n",
    "    for caractere in message:\n",
    "        if caractere.isalpha():\n",
    "            caractere_ordre_ascii = ord(caractere)\n",
    "            nouvelle_ordre_ascii_caractere = caractere_ordre_ascii + decallage\n",
    "            if nouvelle_ordre_ascii_caractere > ord('Z'):\n",
    "                nouvelle_ordre_ascii_caractere = nouvelle_ordre_ascii_caractere - 26\n",
    "            nouveau_message = nouveau_message + chr(nouvelle_ordre_ascii_caractere)\n",
    "        else:\n",
    "            nouveau_message = nouveau_message + caractere\n",
    "    return nouveau_message"
   ]
  },
  {
   "cell_type": "code",
   "execution_count": 66,
   "id": "aea42f45-8356-41b1-8105-59d991524513",
   "metadata": {},
   "outputs": [
    {
     "data": {
      "text/plain": [
       "'WYWC YMN FY WIOLM XY WLSJNIALUJBCY JIOL FYM YNOXCUHNM XY GUMNYL'"
      ]
     },
     "execution_count": 66,
     "metadata": {},
     "output_type": "execute_result"
    }
   ],
   "source": [
    "message_chiffre"
   ]
  },
  {
   "cell_type": "code",
   "execution_count": 67,
   "id": "00bd7f5e-8372-46dd-bdb4-fca37568477a",
   "metadata": {},
   "outputs": [
    {
     "data": {
      "text/plain": [
       "'QSQW SGH ZS QCIFG RS QFMDHCUFODVWS DCIF ZSG SHIRWOBHG RS AOGHSF'"
      ]
     },
     "execution_count": 67,
     "metadata": {},
     "output_type": "execute_result"
    }
   ],
   "source": [
    "cesar(message_chiffre, 20) # En supposant que E est remplacé par Y"
   ]
  },
  {
   "cell_type": "code",
   "execution_count": 68,
   "id": "984cbd38-8308-4ee0-8a5f-9c9376dc950a",
   "metadata": {},
   "outputs": [
    {
     "data": {
      "text/plain": [
       "'VXVB XLM EX VHNKL WX VKRIMHZKTIABX IHNK EXL XMNWBTGML WX FTLMXK'"
      ]
     },
     "execution_count": 68,
     "metadata": {},
     "output_type": "execute_result"
    }
   ],
   "source": [
    "cesar(message_chiffre, 25) # En supposant que A est remplacé par Y"
   ]
  },
  {
   "cell_type": "code",
   "execution_count": 69,
   "id": "851658d3-d090-40e3-93aa-0b8f97454d25",
   "metadata": {},
   "outputs": [
    {
     "data": {
      "text/plain": [
       "'CECI EST LE COURS DE CRYPTOGRAPHIE POUR LES ETUDIANTS DE MASTER'"
      ]
     },
     "execution_count": 69,
     "metadata": {},
     "output_type": "execute_result"
    }
   ],
   "source": [
    "cesar(message_chiffre, 6) # En supposant que S est remplacé par Y"
   ]
  },
  {
   "cell_type": "code",
   "execution_count": 71,
   "id": "4c149c88-8d82-4721-8b31-3c25f4c8b064",
   "metadata": {},
   "outputs": [
    {
     "name": "stdout",
     "output_type": "stream",
     "text": [
      "0 PVCCFN KIZTB UVMVCFG MVJJVH\n",
      "1 QWDDGO LJAUC VWNWDGH NWKKWI\n",
      "2 RXEEHP MKBVD WXOXEHI OXLLXJ\n",
      "3 SYFFIQ NLCWE XYPYFIJ PYMMYK\n",
      "4 TZGGJR OMDXF YZQZGJK QZNNZL\n",
      "5 UAHHKS PNEYG ZARAHKL RAOOAM\n",
      "6 VBIILT QOFZH ABSBILM SBPPBN\n",
      "7 WCJJMU RPGAI BCTCJMN TCQQCO\n",
      "8 XDKKNV SQHBJ CDUDKNO UDRRDP\n",
      "9 YELLOW TRICK DEVELOP VESSEQ\n",
      "10 ZFMMPX USJDL EFWFMPQ WFTTFR\n",
      "11 AGNNQY VTKEM FGXGNQR XGUUGS\n",
      "12 BHOORZ WULFN GHYHORS YHVVHT\n",
      "13 CIPPSA XVMGO HIZIPST ZIWWIU\n",
      "14 DJQQTB YWNHP IJAJQTU AJXXJV\n",
      "15 EKRRUC ZXOIQ JKBKRUV BKYYKW\n",
      "16 FLSSVD AYPJR KLCLSVW CLZZLX\n",
      "17 GMTTWE BZQKS LMDMTWX DMAAMY\n",
      "18 HNUUXF CARLT MNENUXY ENBBNZ\n",
      "19 IOVVYG DBSMU NOFOVYZ FOCCOA\n",
      "20 JPWWZH ECTNV OPGPWZA GPDDPB\n",
      "21 KQXXAI FDUOW PQHQXAB HQEEQC\n",
      "22 LRYYBJ GEVPX QRIRYBC IRFFRD\n",
      "23 MSZZCK HFWQY RSJSZCD JSGGSE\n",
      "24 NTAADL IGXRZ STKTADE KTHHTF\n",
      "25 OUBBEM JHYSA TULUBEF LUIIUG\n",
      "26 PVCCFN KIZTB UVMVCFG MVJJVH\n"
     ]
    }
   ],
   "source": [
    "for i in range(27):\n",
    "    print(i, cesar('PVCCFN KIZTB UVMVCFG MVJJVH', i))"
   ]
  },
  {
   "cell_type": "code",
   "execution_count": null,
   "id": "fcf3f35d-fb40-4775-8fa7-ef452a7a735c",
   "metadata": {},
   "outputs": [],
   "source": []
  }
 ],
 "metadata": {
  "kernelspec": {
   "display_name": "Python 3 (ipykernel)",
   "language": "python",
   "name": "python3"
  },
  "language_info": {
   "codemirror_mode": {
    "name": "ipython",
    "version": 3
   },
   "file_extension": ".py",
   "mimetype": "text/x-python",
   "name": "python",
   "nbconvert_exporter": "python",
   "pygments_lexer": "ipython3",
   "version": "3.9.13"
  }
 },
 "nbformat": 4,
 "nbformat_minor": 5
}
