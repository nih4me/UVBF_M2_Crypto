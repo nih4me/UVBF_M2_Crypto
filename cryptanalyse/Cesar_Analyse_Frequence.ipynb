{
 "cells": [
  {
   "cell_type": "code",
   "execution_count": 1,
   "id": "d91fdcaa-5241-4848-a87d-e5971e92d1a9",
   "metadata": {},
   "outputs": [],
   "source": [
    "message_chiffre = 'WYWC YMN FY WIOLM XY WLSJNIALUJBCY JIOL FYM YNOXCUHNM XY GUMNYL'"
   ]
  },
  {
   "cell_type": "code",
   "execution_count": 2,
   "id": "268ce64d-e572-4c02-931a-1286cf1d9c5f",
   "metadata": {},
   "outputs": [],
   "source": [
    "lettres = 'ABCDEFGHIJKLMNOPQRSTUVWXYZ'"
   ]
  },
  {
   "cell_type": "code",
   "execution_count": 3,
   "id": "7cb8592b-3409-47f5-bdc2-1bcfcb8b9547",
   "metadata": {},
   "outputs": [],
   "source": [
    "from collections import Counter"
   ]
  },
  {
   "cell_type": "code",
   "execution_count": 4,
   "id": "ae461377-dd0f-4c83-afe2-bc41244bb5c6",
   "metadata": {},
   "outputs": [],
   "source": [
    "counter = Counter(message_chiffre)"
   ]
  },
  {
   "cell_type": "code",
   "execution_count": 8,
   "id": "6b026df3-ae9e-4ec6-86db-4bb70e9dcec6",
   "metadata": {},
   "outputs": [],
   "source": [
    "frequence_lettres = dict()\n",
    "for l in lettres:\n",
    "    frequence_lettres[l] = counter[l]"
   ]
  },
  {
   "cell_type": "code",
   "execution_count": 10,
   "id": "5b7080d1-dde1-4e98-a01e-0197d4bfadfa",
   "metadata": {},
   "outputs": [
    {
     "data": {
      "text/plain": [
       "[('Y', 9),\n",
       " ('L', 5),\n",
       " ('M', 5),\n",
       " ('N', 5),\n",
       " ('W', 4),\n",
       " ('C', 3),\n",
       " ('I', 3),\n",
       " ('J', 3),\n",
       " ('O', 3),\n",
       " ('U', 3),\n",
       " ('X', 3),\n",
       " ('F', 2),\n",
       " ('A', 1),\n",
       " ('B', 1),\n",
       " ('G', 1),\n",
       " ('H', 1),\n",
       " ('S', 1),\n",
       " ('D', 0),\n",
       " ('E', 0),\n",
       " ('K', 0),\n",
       " ('P', 0),\n",
       " ('Q', 0),\n",
       " ('R', 0),\n",
       " ('T', 0),\n",
       " ('V', 0),\n",
       " ('Z', 0)]"
      ]
     },
     "execution_count": 10,
     "metadata": {},
     "output_type": "execute_result"
    }
   ],
   "source": [
    "sorted(frequence_lettres.items(), key=lambda i: i[1], reverse=True)"
   ]
  },
  {
   "cell_type": "markdown",
   "id": "a6000307-8527-495e-9f9c-69a503a3eb81",
   "metadata": {},
   "source": [
    "![](freq_lettres_francais.png)"
   ]
  },
  {
   "cell_type": "code",
   "execution_count": 22,
   "id": "bf175c37-0892-4ae0-bb2c-eb69bd62ae93",
   "metadata": {},
   "outputs": [
    {
     "data": {
      "text/plain": [
       "97"
      ]
     },
     "execution_count": 22,
     "metadata": {},
     "output_type": "execute_result"
    }
   ],
   "source": [
    "# E (5) -> Y (25) soit un decallage de 20\n",
    "ord('A') # Retorune la valeur ascii (DEC)"
   ]
  },
  {
   "cell_type": "code",
   "execution_count": 28,
   "id": "903fc918-cded-49ef-9dab-7e7e3a1b8b46",
   "metadata": {},
   "outputs": [
    {
     "data": {
      "text/plain": [
       "True"
      ]
     },
     "execution_count": 28,
     "metadata": {},
     "output_type": "execute_result"
    }
   ],
   "source": [
    "'a'.isalpha() # Verifie si un `char` est une lettre ou pas."
   ]
  },
  {
   "cell_type": "code",
   "execution_count": 29,
   "id": "4f542268-f8e7-4fdc-b30e-6d196e174c2b",
   "metadata": {},
   "outputs": [
    {
     "data": {
      "text/plain": [
       "89"
      ]
     },
     "execution_count": 29,
     "metadata": {},
     "output_type": "execute_result"
    }
   ],
   "source": [
    "ord('E') + 20"
   ]
  },
  {
   "cell_type": "code",
   "execution_count": 31,
   "id": "21c9f490-4e4e-4426-a24e-417ef05b1179",
   "metadata": {},
   "outputs": [
    {
     "data": {
      "text/plain": [
       "'Y'"
      ]
     },
     "execution_count": 31,
     "metadata": {},
     "output_type": "execute_result"
    }
   ],
   "source": [
    "chr(89) # Passer de ascii (DEC) á caractère"
   ]
  },
  {
   "cell_type": "code",
   "execution_count": 52,
   "id": "a052748c-9fe7-4be3-917b-f8d97ad84d35",
   "metadata": {},
   "outputs": [
    {
     "name": "stdout",
     "output_type": "stream",
     "text": [
      "83\n"
     ]
    }
   ],
   "source": [
    "if (ord('Y') + 20) > ord('Z'):\n",
    "    print((ord('Y') + 20) - 26)\n",
    "else:\n",
    "    print((ord('Y') + 20))"
   ]
  },
  {
   "cell_type": "code",
   "execution_count": 53,
   "id": "2ca3e8c8-1929-4cd2-bb55-04374ca7813d",
   "metadata": {},
   "outputs": [
    {
     "data": {
      "text/plain": [
       "'S'"
      ]
     },
     "execution_count": 53,
     "metadata": {},
     "output_type": "execute_result"
    }
   ],
   "source": [
    "chr(83)"
   ]
  },
  {
   "cell_type": "code",
   "execution_count": 45,
   "id": "31887587-00cd-497b-a8d6-0901cb219952",
   "metadata": {},
   "outputs": [],
   "source": [
    "def cesar(message, decallage):\n",
    "    nouveau_message = ''\n",
    "    for caractere in message:\n",
    "        if caractere.isalpha():\n",
    "            caractere_ordre_ascii = ord(caractere)\n",
    "            nouvelle_ordre_ascii_caractere = caractere_ordre_ascii + decallage\n",
    "            if nouvelle_ordre_ascii_caractere > ord('Z'):\n",
    "                nouvelle_ordre_ascii_caractere = nouvelle_ordre_ascii_caractere - 26\n",
    "            nouveau_message = nouveau_message + chr(nouvelle_ordre_ascii_caractere)\n",
    "        else:\n",
    "            nouveau_message = nouveau_message + caractere\n",
    "    return nouveau_message"
   ]
  },
  {
   "cell_type": "code",
   "execution_count": 47,
   "id": "aea42f45-8356-41b1-8105-59d991524513",
   "metadata": {},
   "outputs": [
    {
     "data": {
      "text/plain": [
       "'WYWC YMN FY WIOLM XY WLSJNIALUJBCY JIOL FYM YNOXCUHNM XY GUMNYL'"
      ]
     },
     "execution_count": 47,
     "metadata": {},
     "output_type": "execute_result"
    }
   ],
   "source": [
    "message_chiffre"
   ]
  },
  {
   "cell_type": "code",
   "execution_count": 56,
   "id": "00bd7f5e-8372-46dd-bdb4-fca37568477a",
   "metadata": {},
   "outputs": [
    {
     "data": {
      "text/plain": [
       "'QSQW SGH ZS QCIFG RS QFMDHCUFODVWS DCIF ZSG SHIRWOBHG RS AOGHSF'"
      ]
     },
     "execution_count": 56,
     "metadata": {},
     "output_type": "execute_result"
    }
   ],
   "source": [
    "cesar(message_chiffre, 20) # En supposant que E est remplacé par Y"
   ]
  },
  {
   "cell_type": "code",
   "execution_count": 57,
   "id": "984cbd38-8308-4ee0-8a5f-9c9376dc950a",
   "metadata": {},
   "outputs": [
    {
     "data": {
      "text/plain": [
       "'VXVB XLM EX VHNKL WX VKRIMHZKTIABX IHNK EXL XMNWBTGML WX FTLMXK'"
      ]
     },
     "execution_count": 57,
     "metadata": {},
     "output_type": "execute_result"
    }
   ],
   "source": [
    "cesar(message_chiffre, 25) # En supposant que A est remplacé par Y"
   ]
  },
  {
   "cell_type": "code",
   "execution_count": 58,
   "id": "851658d3-d090-40e3-93aa-0b8f97454d25",
   "metadata": {},
   "outputs": [
    {
     "data": {
      "text/plain": [
       "'CECI EST LE COURS DE CRYPTOGRAPHIE POUR LES ETUDIANTS DE MASTER'"
      ]
     },
     "execution_count": 58,
     "metadata": {},
     "output_type": "execute_result"
    }
   ],
   "source": [
    "cesar(message_chiffre, 6) # En supposant que S est remplacé par Y"
   ]
  },
  {
   "cell_type": "code",
   "execution_count": 59,
   "id": "4c149c88-8d82-4721-8b31-3c25f4c8b064",
   "metadata": {},
   "outputs": [
    {
     "name": "stdout",
     "output_type": "stream",
     "text": [
      "0 WYWC YMN FY WIOLM XY WLSJNIALUJBCY JIOL FYM YNOXCUHNM XY GUMNYL\n",
      "1 XZXD ZNO GZ XJPMN YZ XMTKOJBMVKCDZ KJPM GZN ZOPYDVION YZ HVNOZM\n",
      "2 YAYE AOP HA YKQNO ZA YNULPKCNWLDEA LKQN HAO APQZEWJPO ZA IWOPAN\n",
      "3 ZBZF BPQ IB ZLROP AB ZOVMQLDOXMEFB MLRO IBP BQRAFXKQP AB JXPQBO\n",
      "4 ACAG CQR JC AMSPQ BC APWNRMEPYNFGC NMSP JCQ CRSBGYLRQ BC KYQRCP\n",
      "5 BDBH DRS KD BNTQR CD BQXOSNFQZOGHD ONTQ KDR DSTCHZMSR CD LZRSDQ\n",
      "6 CECI EST LE COURS DE CRYPTOGRAPHIE POUR LES ETUDIANTS DE MASTER\n",
      "7 DFDJ FTU MF DPVST EF DSZQUPHSBQIJF QPVS MFT FUVEJBOUT EF NBTUFS\n",
      "8 EGEK GUV NG EQWTU FG ETARVQITCRJKG RQWT NGU GVWFKCPVU FG OCUVGT\n",
      "9 FHFL HVW OH FRXUV GH FUBSWRJUDSKLH SRXU OHV HWXGLDQWV GH PDVWHU\n",
      "10 GIGM IWX PI GSYVW HI GVCTXSKVETLMI TSYV PIW IXYHMERXW HI QEWXIV\n",
      "11 HJHN JXY QJ HTZWX IJ HWDUYTLWFUMNJ UTZW QJX JYZINFSYX IJ RFXYJW\n",
      "12 IKIO KYZ RK IUAXY JK IXEVZUMXGVNOK VUAX RKY KZAJOGTZY JK SGYZKX\n",
      "13 JLJP LZA SL JVBYZ KL JYFWAVNYHWOPL WVBY SLZ LABKPHUAZ KL THZALY\n",
      "14 KMKQ MAB TM KWCZA LM KZGXBWOZIXPQM XWCZ TMA MBCLQIVBA LM UIABMZ\n",
      "15 LNLR NBC UN LXDAB MN LAHYCXPAJYQRN YXDA UNB NCDMRJWCB MN VJBCNA\n",
      "16 MOMS OCD VO MYEBC NO MBIZDYQBKZRSO ZYEB VOC ODENSKXDC NO WKCDOB\n",
      "17 NPNT PDE WP NZFCD OP NCJAEZRCLASTP AZFC WPD PEFOTLYED OP XLDEPC\n",
      "18 OQOU QEF XQ OAGDE PQ ODKBFASDMBTUQ BAGD XQE QFGPUMZFE PQ YMEFQD\n",
      "19 PRPV RFG YR PBHEF QR PELCGBTENCUVR CBHE YRF RGHQVNAGF QR ZNFGRE\n",
      "20 QSQW SGH ZS QCIFG RS QFMDHCUFODVWS DCIF ZSG SHIRWOBHG RS AOGHSF\n",
      "21 RTRX THI AT RDJGH ST RGNEIDVGPEWXT EDJG ATH TIJSXPCIH ST BPHITG\n",
      "22 SUSY UIJ BU SEKHI TU SHOFJEWHQFXYU FEKH BUI UJKTYQDJI TU CQIJUH\n",
      "23 TVTZ VJK CV TFLIJ UV TIPGKFXIRGYZV GFLI CVJ VKLUZREKJ UV DRJKVI\n",
      "24 UWUA WKL DW UGMJK VW UJQHLGYJSHZAW HGMJ DWK WLMVASFLK VW ESKLWJ\n",
      "25 VXVB XLM EX VHNKL WX VKRIMHZKTIABX IHNK EXL XMNWBTGML WX FTLMXK\n",
      "26 WYWC YMN FY WIOLM XY WLSJNIALUJBCY JIOL FYM YNOXCUHNM XY GUMNYL\n"
     ]
    }
   ],
   "source": [
    "for i in range(27):\n",
    "    print(i, cesar(message_chiffre, i))"
   ]
  },
  {
   "cell_type": "code",
   "execution_count": null,
   "id": "fcf3f35d-fb40-4775-8fa7-ef452a7a735c",
   "metadata": {},
   "outputs": [],
   "source": []
  }
 ],
 "metadata": {
  "kernelspec": {
   "display_name": "Python 3 (ipykernel)",
   "language": "python",
   "name": "python3"
  },
  "language_info": {
   "codemirror_mode": {
    "name": "ipython",
    "version": 3
   },
   "file_extension": ".py",
   "mimetype": "text/x-python",
   "name": "python",
   "nbconvert_exporter": "python",
   "pygments_lexer": "ipython3",
   "version": "3.9.13"
  }
 },
 "nbformat": 4,
 "nbformat_minor": 5
}
