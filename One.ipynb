{
 "cells": [
  {
   "cell_type": "markdown",
   "id": "57acf827-8abd-4145-afed-acb02208dd03",
   "metadata": {},
   "source": [
    "## Test de la librairie HashLib - Python 3.9"
   ]
  },
  {
   "cell_type": "code",
   "execution_count": 13,
   "id": "86564145-e4c8-4c66-b0b4-be764f632834",
   "metadata": {},
   "outputs": [],
   "source": [
    "import hashlib\n",
    "import time"
   ]
  },
  {
   "cell_type": "markdown",
   "id": "c05a3d5e-6472-4a22-9c31-bb8e1a506939",
   "metadata": {},
   "source": [
    "### liste des fonctions de hashages disponible"
   ]
  },
  {
   "cell_type": "code",
   "execution_count": 8,
   "id": "8ba14aa8-0922-4ecd-99ab-cb5558865ea6",
   "metadata": {},
   "outputs": [
    {
     "data": {
      "text/plain": [
       "{'blake2b',\n",
       " 'blake2s',\n",
       " 'md4',\n",
       " 'md5',\n",
       " 'md5-sha1',\n",
       " 'mdc2',\n",
       " 'ripemd160',\n",
       " 'sha1',\n",
       " 'sha224',\n",
       " 'sha256',\n",
       " 'sha384',\n",
       " 'sha3_224',\n",
       " 'sha3_256',\n",
       " 'sha3_384',\n",
       " 'sha3_512',\n",
       " 'sha512',\n",
       " 'sha512_224',\n",
       " 'sha512_256',\n",
       " 'shake_128',\n",
       " 'shake_256',\n",
       " 'sm3',\n",
       " 'whirlpool'}"
      ]
     },
     "execution_count": 8,
     "metadata": {},
     "output_type": "execute_result"
    }
   ],
   "source": [
    "hashlib.algorithms_available"
   ]
  },
  {
   "cell_type": "markdown",
   "id": "8a52a670-ecce-4e22-bee4-b756197c8aeb",
   "metadata": {},
   "source": [
    "### Test sha256"
   ]
  },
  {
   "cell_type": "code",
   "execution_count": 10,
   "id": "a0fd25f8-2045-4f4d-9c00-5135b99e1d24",
   "metadata": {},
   "outputs": [
    {
     "data": {
      "text/plain": [
       "b'\\x91r\\xe8\\xee\\xc9\\x9f\\x14Or\\xec\\xa9\\xa5hu\\x95\\x80\\xed\\xad\\xb2\\xcf\\xd1T\\x85\\x7f\\x07\\xe6WV\\x94\\x93\\xbcD'"
      ]
     },
     "execution_count": 10,
     "metadata": {},
     "output_type": "execute_result"
    }
   ],
   "source": [
    "m = hashlib.sha256()\n",
    "message_a_hacher = b\"Bonjour\"\n",
    "m.update(message_a_hacher)\n",
    "m.digest()"
   ]
  },
  {
   "cell_type": "code",
   "execution_count": 17,
   "id": "87d93005-5027-44fb-bfb3-054f31e4acc5",
   "metadata": {},
   "outputs": [
    {
     "name": "stdout",
     "output_type": "stream",
     "text": [
      "9172e8eec99f144f72eca9a568759580edadb2cfd154857f07e657569493bc44\n",
      "--- 0.0005481243133544922 secondes ---\n"
     ]
    }
   ],
   "source": [
    "m = hashlib.sha256()\n",
    "message_a_hacher = b\"Bonjour\"\n",
    "m.update(message_a_hacher)\n",
    "t0 = time.time()\n",
    "print(m.hexdigest()) # en hexadecimale\n",
    "t1 = time.time()\n",
    "print('--- %s secondes ---' % (t1 - t0))"
   ]
  },
  {
   "cell_type": "markdown",
   "id": "36fa7de0-ccc4-4c1d-9dea-3c3481d2efb3",
   "metadata": {},
   "source": [
    "Temps d'execution très faible. "
   ]
  },
  {
   "cell_type": "markdown",
   "id": "12388e79-fce1-4cff-a2ad-15f417adea93",
   "metadata": {},
   "source": [
    "### Test sha256 avec Key Derivation"
   ]
  },
  {
   "cell_type": "code",
   "execution_count": 16,
   "id": "152d9b5f-b61c-4e28-b399-06c042d5cfa1",
   "metadata": {},
   "outputs": [
    {
     "name": "stdout",
     "output_type": "stream",
     "text": [
      "b2dd95d8175561e1d1cd44144d8e633e842b2e44741fd7d1b09b88aa22b2197e\n",
      "--- 0.08560490608215332 secondes ---\n"
     ]
    }
   ],
   "source": [
    "mdp = b'Bonjour'\n",
    "salt = b'salt'\n",
    "n_iterations = 100_000\n",
    "t0 = time.time()\n",
    "dk = hashlib.pbkdf2_hmac('sha256', mdp, salt, n_iterations)\n",
    "print(dk.hex())\n",
    "t1 = time.time()\n",
    "print('--- %s secondes ---' % (t1 - t0))"
   ]
  },
  {
   "cell_type": "markdown",
   "id": "712d3993-c416-401a-8fed-0e4165ccc4b1",
   "metadata": {},
   "source": [
    "## OPENSSL"
   ]
  },
  {
   "cell_type": "markdown",
   "id": "eab21004-c2cc-4551-9e1b-ed699951cb6a",
   "metadata": {},
   "source": [
    "### Alice et Bob"
   ]
  },
  {
   "cell_type": "markdown",
   "id": "77f6e365-895e-47ce-934d-202b01a10efa",
   "metadata": {},
   "source": [
    "Generer votre clé privée\n",
    "```sh\n",
    "openssl genrsa -out private-key.pem 2048\n",
    "```"
   ]
  },
  {
   "cell_type": "markdown",
   "id": "a26921d2-8cfb-4dc6-b00d-b25311d7c42c",
   "metadata": {},
   "source": [
    "Generer la clé publique correspondante\n",
    "```sh\n",
    "openssl rsa -in private-key.pem -pubout -out public-key.pem\n",
    "```"
   ]
  },
  {
   "cell_type": "markdown",
   "id": "133888a1-439e-4405-8955-9a14444382b1",
   "metadata": {},
   "source": [
    "### Alice "
   ]
  },
  {
   "cell_type": "markdown",
   "id": "fa1c3385-5991-45c0-b626-abb1a1b4243d",
   "metadata": {},
   "source": [
    "Generer un mot de passe aleatoire avec openssl pour chiffrement symetrique\n",
    "```sh\n",
    "openssl rand -out password.txt -hex 32\n",
    "openssl rand -help # pour plus de details\n",
    "```"
   ]
  },
  {
   "cell_type": "markdown",
   "id": "8cb50ce1-382f-477f-9c75-d1e5404fe1f8",
   "metadata": {},
   "source": [
    "Chiffrement symetrique AES de `hello.txt`\n",
    "```sh\n",
    "openssl enc -p -aes-256-cbc -salt -in hello.txt -out hello.enc -pass file:./password.txt\n",
    "```"
   ]
  },
  {
   "cell_type": "markdown",
   "id": "b30bbbea-e44e-454e-b910-e6e8f05ef818",
   "metadata": {},
   "source": [
    "### Alice : Pour partager le mot de avec Bob\n",
    "La clé publique de Bob doit etre utilisee"
   ]
  },
  {
   "cell_type": "markdown",
   "id": "6a6786b5-66f3-4d4f-8f40-c79866112502",
   "metadata": {},
   "source": [
    "Chiffrement [asymetrique] RSA de `password.txt`\n",
    "```sh\n",
    "openssl rsautl -encrypt -inkey public-key.pem -pubin -in password.txt -out password.txt.encrypted\n",
    "```"
   ]
  },
  {
   "cell_type": "markdown",
   "id": "704c1e10-c6b2-4811-9a1e-1de73e686dad",
   "metadata": {},
   "source": [
    "### Bob : Dechiffre le mot de passe en utilisant sa clé privee"
   ]
  },
  {
   "cell_type": "markdown",
   "id": "f6c34f2c-24b9-4eb3-8425-6ece201705be",
   "metadata": {},
   "source": [
    "Dechiffrement [asymetrique] RSA de `password.txt.encrypted`\n",
    "```sh\n",
    "openssl rsautl -decrypt -inkey private-key.pem -in password.txt.encrypted -out password.txt.decrypted\n",
    "```"
   ]
  },
  {
   "cell_type": "markdown",
   "id": "9766560c-44de-42ac-a3e7-2125000438bf",
   "metadata": {},
   "source": [
    "Dechiffrement symetrique AES de `hello.enc`\n",
    "```sh\n",
    "openssl enc -d -p -aes-256-cbc -salt -in hello.enc -out hello.dec -pass file:./password.txt.decrypted # Attention à l'option -d pour decrypter\n",
    "```"
   ]
  },
  {
   "cell_type": "code",
   "execution_count": null,
   "id": "4f79a6a5-4d3f-4707-8b2e-7f830cde7e89",
   "metadata": {},
   "outputs": [],
   "source": []
  }
 ],
 "metadata": {
  "kernelspec": {
   "display_name": "Python 3 (ipykernel)",
   "language": "python",
   "name": "python3"
  },
  "language_info": {
   "codemirror_mode": {
    "name": "ipython",
    "version": 3
   },
   "file_extension": ".py",
   "mimetype": "text/x-python",
   "name": "python",
   "nbconvert_exporter": "python",
   "pygments_lexer": "ipython3",
   "version": "3.9.13"
  }
 },
 "nbformat": 4,
 "nbformat_minor": 5
}
