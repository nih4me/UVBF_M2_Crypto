{
 "cells": [
  {
   "cell_type": "markdown",
   "id": "1008383d-a2a7-49a1-834c-0fdb2ca7415e",
   "metadata": {},
   "source": [
    "## Creation de certificats auto-signé"
   ]
  },
  {
   "cell_type": "markdown",
   "id": "d7bfe3dc-20fc-41e4-abad-fd970750aa6a",
   "metadata": {},
   "source": [
    "### Creation d'une autorité de certification"
   ]
  },
  {
   "cell_type": "markdown",
   "id": "832a4bf9-22cf-424b-b112-0872bba4ef87",
   "metadata": {},
   "source": [
    "1. Creation de clé de pour autorité racine\n",
    "\n",
    "```sh\n",
    "openssl genrsa -out ca-private-key.pem 2048\n",
    "```"
   ]
  },
  {
   "cell_type": "markdown",
   "id": "d099f86f-3acf-45cb-a50f-f8aa4d361278",
   "metadata": {},
   "source": [
    "2. Generation d'un certificat x509 pour notre autorité racine.\n",
    "\n",
    "<u>NB</u>: Le certificat est auto-signé. On utilise directement la clé privée pour signer\n",
    "\n",
    "```sh\n",
    "openssl req -new -x509 -nodes -days 36500 -key ca-private-key.pem -out ca-cert.pem\n",
    "```"
   ]
  },
  {
   "cell_type": "markdown",
   "id": "7551b2d9-960e-4416-87d3-4c309fb2e948",
   "metadata": {},
   "source": [
    "## Creation d'un certificat `Server`\n",
    "1. Creation de la clé pour `Server` et d'une requête de certificat pour `Server`\n",
    "\n",
    "<u>NB</u>: Se fait sur le `server`. Transmettre la requete à une autorité et permet de garder votre clé privée secret.\n",
    "\n",
    "```sh\n",
    "openssl req -newkey rsa:2048 -nodes -days 36500 -keyout server-private-key.pem -out server-cert-req.pem\n",
    "```"
   ]
  },
  {
   "cell_type": "markdown",
   "id": "ea3d095f-2f75-4114-9c5b-36e2683abc7e",
   "metadata": {},
   "source": [
    "2. Finaliser la generation et la signature du certificat\n",
    "\n",
    "<u>NB</u>: Est fait par l'autorité.\n",
    "```sh\n",
    "openssl x509 -req -days 36500 -set_serial 01 -CA ca-cert.pem -CAkey ca-private-key.pem -in server-cert-req.pem -out server-cert.pem\n",
    "```"
   ]
  },
  {
   "cell_type": "markdown",
   "id": "d6c7666f-9454-41fe-9be8-9795a7c487b5",
   "metadata": {},
   "source": [
    "## Verification Certificat"
   ]
  },
  {
   "cell_type": "markdown",
   "id": "280a3718-a829-4f17-82d1-773a63e007aa",
   "metadata": {},
   "source": [
    "```sh\n",
    "openssl verify -CAfile ca-cert.pem server-cert.pem\n",
    "```"
   ]
  }
 ],
 "metadata": {
  "kernelspec": {
   "display_name": "Python 3 (ipykernel)",
   "language": "python",
   "name": "python3"
  },
  "language_info": {
   "codemirror_mode": {
    "name": "ipython",
    "version": 3
   },
   "file_extension": ".py",
   "mimetype": "text/x-python",
   "name": "python",
   "nbconvert_exporter": "python",
   "pygments_lexer": "ipython3",
   "version": "3.9.13"
  }
 },
 "nbformat": 4,
 "nbformat_minor": 5
}
