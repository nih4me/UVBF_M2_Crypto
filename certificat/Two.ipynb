{
 "cells": [
  {
   "cell_type": "markdown",
   "id": "1008383d-a2a7-49a1-834c-0fdb2ca7415e",
   "metadata": {},
   "source": [
    "## Creation de certificats auto-signé"
   ]
  },
  {
   "cell_type": "markdown",
   "id": "d7bfe3dc-20fc-41e4-abad-fd970750aa6a",
   "metadata": {},
   "source": [
    "### Creation d'une autorité de certification"
   ]
  },
  {
   "cell_type": "markdown",
   "id": "832a4bf9-22cf-424b-b112-0872bba4ef87",
   "metadata": {},
   "source": [
    "1. Creation de clé\n",
    "```sh\n",
    "openssl genrsa -out ca-private-key.pem 2048\n",
    "```\n",
    "\n",
    "2. Generation d'un certificat x509 pour notre autorité\n",
    "```sh\n",
    "openssl req -new -x509 -nodes -days 36500 -key ca-private-key.pem -out ca-cert.pem\n",
    "```"
   ]
  },
  {
   "cell_type": "code",
   "execution_count": null,
   "id": "3c599748-2e0c-4ae0-8bc8-55e241fc1945",
   "metadata": {},
   "outputs": [],
   "source": []
  }
 ],
 "metadata": {
  "kernelspec": {
   "display_name": "Python 3 (ipykernel)",
   "language": "python",
   "name": "python3"
  },
  "language_info": {
   "codemirror_mode": {
    "name": "ipython",
    "version": 3
   },
   "file_extension": ".py",
   "mimetype": "text/x-python",
   "name": "python",
   "nbconvert_exporter": "python",
   "pygments_lexer": "ipython3",
   "version": "3.9.13"
  }
 },
 "nbformat": 4,
 "nbformat_minor": 5
}
