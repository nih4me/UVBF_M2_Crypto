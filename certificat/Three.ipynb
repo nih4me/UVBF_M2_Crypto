{
 "cells": [
  {
   "cell_type": "markdown",
   "id": "0932fcff-e42c-4775-8a3c-aea0e006b785",
   "metadata": {},
   "source": [
    "## Web of Trust"
   ]
  },
  {
   "cell_type": "markdown",
   "id": "da580ee1-c375-4a6f-929e-ea9b909702b8",
   "metadata": {},
   "source": [
    "GnuPG: un outils de crypto pour (1) la gestion de vos clés et (2) des operations cryptographiques ([de]chiffrement, signature et verifications...)"
   ]
  },
  {
   "cell_type": "markdown",
   "id": "4afc47c7-c52c-4617-897d-1d88ef667977",
   "metadata": {},
   "source": [
    "### Installation\n",
    "```sh\n",
    "brew install gnupg # Sur MAC\n",
    "\n",
    "apt install gpg # Sur Ubuntu/Debian\n",
    "```"
   ]
  },
  {
   "cell_type": "markdown",
   "id": "88d8d439-feb4-4fb3-b12c-ff76d3d07c4b",
   "metadata": {},
   "source": [
    "### Gestion des clés"
   ]
  },
  {
   "cell_type": "markdown",
   "id": "3cdb9739-048d-4af2-aecd-19c03a023d79",
   "metadata": {},
   "source": [
    "- Lister vos clés\n",
    "\n",
    "```sh\n",
    "# Liste toutes clés publiques que vous avez enregistré\n",
    "gpg --list-keys \n",
    "\n",
    "# Liste toutes clés privées que vous avez enregistré\n",
    "gpg --list-secret-keys \n",
    "```"
   ]
  },
  {
   "cell_type": "markdown",
   "id": "cd4141d1-4181-4458-8c85-94b3b1a61d87",
   "metadata": {},
   "source": [
    "- Génération de clés\n",
    "\n",
    "```sh\n",
    "gpg --gen-key\n",
    "```"
   ]
  },
  {
   "cell_type": "markdown",
   "id": "73bfa993-fa50-4357-acf9-e8de2b79c4b3",
   "metadata": {},
   "source": [
    "- Exportation, importation et suppression de clés en local\n",
    "\n",
    "```sh\n",
    "gpg --export[-secret]-keys --armor <KEY-ID> > <chemin-fichier>\n",
    "\n",
    "gpg --import <chemin-clé>\n",
    "\n",
    "gpg --delete[-secret]-keys <KEY-ID>\n",
    "```"
   ]
  },
  {
   "cell_type": "markdown",
   "id": "b47fe9d5-b5da-46c1-b8f3-b3102e146c97",
   "metadata": {},
   "source": [
    "- Envoie, importation et suppression de clés depuis un serveur distant\n",
    "\n",
    "```sh\n",
    "gpg --keyserver hkp://<URI-server> --send-keys <KEY-ID>\n",
    "\n",
    "gpg --keyserver <URI-server> --search-key <adresse-mail>\n",
    "gpg --keyserver <URI-server> --recv <KEY-ID>\n",
    "```"
   ]
  },
  {
   "cell_type": "code",
   "execution_count": null,
   "id": "37a0a5ab-f690-4027-85ae-1a9584a0727d",
   "metadata": {},
   "outputs": [],
   "source": []
  },
  {
   "cell_type": "code",
   "execution_count": null,
   "id": "bd04248b-9dd2-4086-9f5c-4de844268d65",
   "metadata": {},
   "outputs": [],
   "source": []
  }
 ],
 "metadata": {
  "kernelspec": {
   "display_name": "Python 3 (ipykernel)",
   "language": "python",
   "name": "python3"
  },
  "language_info": {
   "codemirror_mode": {
    "name": "ipython",
    "version": 3
   },
   "file_extension": ".py",
   "mimetype": "text/x-python",
   "name": "python",
   "nbconvert_exporter": "python",
   "pygments_lexer": "ipython3",
   "version": "3.9.13"
  }
 },
 "nbformat": 4,
 "nbformat_minor": 5
}
