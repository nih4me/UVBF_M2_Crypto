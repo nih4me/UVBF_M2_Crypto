{
 "cells": [
  {
   "cell_type": "markdown",
   "id": "0932fcff-e42c-4775-8a3c-aea0e006b785",
   "metadata": {},
   "source": [
    "## Web of Trust"
   ]
  },
  {
   "cell_type": "markdown",
   "id": "da580ee1-c375-4a6f-929e-ea9b909702b8",
   "metadata": {},
   "source": [
    "GnuPG: un outils de crypto pour (1) la gestion de vos clés et (2) des operations cryptographiques ([de]chiffrement, signature et verifications...)"
   ]
  },
  {
   "cell_type": "markdown",
   "id": "4afc47c7-c52c-4617-897d-1d88ef667977",
   "metadata": {},
   "source": [
    "### Installation\n",
    "```sh\n",
    "brew install gnupg # Sur MAC\n",
    "\n",
    "apt install gpg # Sur Ubuntu/Debian\n",
    "```"
   ]
  },
  {
   "cell_type": "markdown",
   "id": "88d8d439-feb4-4fb3-b12c-ff76d3d07c4b",
   "metadata": {},
   "source": [
    "### Gestion des clés"
   ]
  },
  {
   "cell_type": "markdown",
   "id": "3cdb9739-048d-4af2-aecd-19c03a023d79",
   "metadata": {},
   "source": [
    "- Lister vos clés\n",
    "\n",
    "```sh\n",
    "# Liste toutes clés publiques que vous avez enregistré\n",
    "gpg --list-keys \n",
    "\n",
    "# Liste toutes clés privées que vous avez enregistré\n",
    "gpg --list-secret-keys \n",
    "```"
   ]
  },
  {
   "cell_type": "markdown",
   "id": "cd4141d1-4181-4458-8c85-94b3b1a61d87",
   "metadata": {},
   "source": [
    "- Génération de clés\n",
    "\n",
    "```sh\n",
    "gpg --gen-key\n",
    "```"
   ]
  },
  {
   "cell_type": "markdown",
   "id": "73bfa993-fa50-4357-acf9-e8de2b79c4b3",
   "metadata": {},
   "source": [
    "- Exportation, importation et suppression de clés en local\n",
    "\n",
    "```sh\n",
    "gpg --export[-secret-keys] --armor <KEY-ID> > <chemin-fichier>\n",
    "\n",
    "gpg --import <chemin-clé>\n",
    "\n",
    "gpg --delete[-secret-keys] <KEY-ID>\n",
    "```"
   ]
  },
  {
   "cell_type": "markdown",
   "id": "b47fe9d5-b5da-46c1-b8f3-b3102e146c97",
   "metadata": {},
   "source": [
    "- Envoie, importation et suppression de clés depuis un serveur distant\n",
    "\n",
    "```sh\n",
    "gpg --keyserver hkp://<URI-server> --send-keys <KEY-ID>\n",
    "gpg --keyserver <URI-server> --recv <KEY-ID>\n",
    "```"
   ]
  },
  {
   "cell_type": "markdown",
   "id": "4fc0b87d-b55a-436f-a188-290d34d07f21",
   "metadata": {},
   "source": [
    "- Rechercher la clé de votre corresppondant \n",
    "\n",
    "```sh\n",
    "gpg --keyserver <URI-server> --search-key <adresse-mail>\n",
    "```"
   ]
  },
  {
   "cell_type": "markdown",
   "id": "d062839d-24ad-4a6b-98fc-237cd90acc0b",
   "metadata": {},
   "source": [
    "### Chiffrement et dechiffrement de message\n",
    "\n",
    "```sh\n",
    "gpg [--armor] --recipient <adresse-mail-destinataire> --encrypt <file-a-chiffrer>\n",
    "\n",
    "gpg --decrypt <fichier-chiffré> > <fichier-qui-contiendra-le-message-dechiffré>\n",
    "```"
   ]
  },
  {
   "cell_type": "markdown",
   "id": "fa9713fc-2ebc-4fed-ae3b-ebcbf2892a95",
   "metadata": {},
   "source": [
    "### Signature et Verification\n",
    "\n",
    "```sh\n",
    "gpg --sign <fichier-á-signer>\n",
    "\n",
    "gpg --verify <fichier-signé>\n",
    "```"
   ]
  },
  {
   "cell_type": "code",
   "execution_count": null,
   "id": "74168bdd-e66c-4a9f-86e7-22adb9792a91",
   "metadata": {},
   "outputs": [],
   "source": []
  }
 ],
 "metadata": {
  "kernelspec": {
   "display_name": "Python 3 (ipykernel)",
   "language": "python",
   "name": "python3"
  },
  "language_info": {
   "codemirror_mode": {
    "name": "ipython",
    "version": 3
   },
   "file_extension": ".py",
   "mimetype": "text/x-python",
   "name": "python",
   "nbconvert_exporter": "python",
   "pygments_lexer": "ipython3",
   "version": "3.9.13"
  }
 },
 "nbformat": 4,
 "nbformat_minor": 5
}
