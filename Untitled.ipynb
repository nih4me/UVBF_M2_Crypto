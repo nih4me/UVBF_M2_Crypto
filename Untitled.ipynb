{
 "cells": [
  {
   "cell_type": "markdown",
   "id": "2d33d2ce-4189-45d2-bc14-ddc2ac333a69",
   "metadata": {},
   "source": []
  },
  {
   "cell_type": "markdown",
   "id": "f9b8e783-ea4c-4082-af94-513ec5b8d987",
   "metadata": {},
   "source": [
    "La cryptographie est un mot que vous connaissez sans doute. Je suis presque certain que vous avez fabriqué, dans votre enfance, quelques petits codes secrets. Des méthodes pour chiffrer des messages, il y en a des paquets, et je pars donc du principe que vous en connaissez (au moins, ayez lu ce tuto, ainsi que la suite). Tout ne sera pas abordé, mais cela vous permettra d’avoir un bon aperçu sur la chose avant de commencer."
   ]
  },
  {
   "cell_type": "markdown",
   "id": "ec17afd9-1adb-4811-84f3-cac66a867fcc",
   "metadata": {},
   "source": [
    "La cryptologie est séparée en deux grandes parties : la cryptographie (comment faire des messages chiffrés), et la cryptanalyse (l’art de les casser). Ce tuto a pour but de vous présenter rapidement quelques outils de cryptanalyse sur des méthodes de codage d’antan. Mais il y a de quoi faire, ne vous inquiétez pas. Sans plus de manières, c’est parti, on y va !"
   ]
  },
  {
   "cell_type": "markdown",
   "id": "2d3ceeb5-80a0-44b5-9ce9-8aed6f1bd414",
   "metadata": {},
   "source": [
    "## Le décalage et la recherche exhaustive"
   ]
  },
  {
   "cell_type": "markdown",
   "id": "14f92691-edbe-4405-b8ee-d13bdd210ab1",
   "metadata": {},
   "source": [
    "Commençons par le début du commencement : le chiffre de César, ou chiffrement par décalage. Pour rappel, cette méthode consiste à décaler les lettres d’un certain nombre de places dans l’alphabet.\n",
    "\n",
    "Comment casser le code de César ? Si on connait le décalage, ça va : on fait le décalage dans l’autre sens. Mais comment faire si on ne l’a pas ?"
   ]
  },
  {
   "cell_type": "markdown",
   "id": "96f5cc61-4a8b-48db-8907-5d0254e90556",
   "metadata": {},
   "source": [
    "### Recherche exhaustive"
   ]
  },
  {
   "cell_type": "markdown",
   "id": "a3a70dc0-9f51-4e1e-933d-3116f65b760a",
   "metadata": {},
   "source": [
    "Comme il y a 26 lettres dans l’alphabet, il n’y a que 26 décalages possibles (25 si on exclut le décalage de 0). On va donc faire une recherche exhaustive, c’est-à-dire que l’on teste toutes les possibilités ! Tôt ou tard on finira par tomber sur le bon résultat.\n",
    "\n",
    "__Exemple__ :\n",
    "Texte chiffré : at rdst rthpg, r’thi uprxat p rphhtg\n",
    "\n",
    "On teste alors les 26 décalages (on peut le faire à la main, mais on peut aussi le faire avec un petit programme).\n",
    "\n",
    "__Résultats__ :"
   ]
  },
  {
   "cell_type": "code",
   "execution_count": null,
   "id": "124862ff-ebbd-4972-8558-7d157931ea1b",
   "metadata": {},
   "outputs": [],
   "source": [
    "# CODE"
   ]
  },
  {
   "cell_type": "markdown",
   "id": "9700f95b-088d-428e-b03a-9e36feff81cd",
   "metadata": {},
   "source": [
    "Le décalage de 11 à l’air plutôt suspect : le code cesar, c’est facile a casser.\n",
    "\n",
    "Voilà, on a réussi à casser le code de César sans trop s’embêter ! Cette technique va fonctionner avec n’importe quel message, de n’importe quelle longueur, chiffré par décalage."
   ]
  },
  {
   "cell_type": "markdown",
   "id": "de669d36-3af3-4a0e-9b91-f864f14eadda",
   "metadata": {},
   "source": [
    "### Autre technique : trouver une lettre"
   ]
  },
  {
   "cell_type": "markdown",
   "id": "a4a91348-98a0-4f0b-a11f-4666a69d0974",
   "metadata": {},
   "source": [
    "Si l’on a pas envie de tester les 25 possibilités, il est également possible de tenter de deviner le décalage. Par exemple, dans at rdst rthpg, r’thi uprxat p rphhtg, on voit que le t revient souvent. On peut donc se dire que le e du message initial a été chiffré en un t : ça semble pertinent. Cela nous donne un décalage de 15. Pour vérifier notre hypothèse, il suffit alors de tester en décalant tout de 15 lettres dans l’autre sens (décaler de -15 revient à faire +11 car −15+26=11) dans le texte chiffré. On retrouve alors bien le message escompté, et sans avoir tout calculé.\n",
    "\n",
    "On va maintenant passer à des méthodes un peu plus sophistiquées, parce que là, ce n’était pas sorcier"
   ]
  },
  {
   "cell_type": "markdown",
   "id": "3b012d11-ec83-4d29-bd94-a2c321a8be3e",
   "metadata": {},
   "source": [
    "### La substitution et l'analyse de fréquences"
   ]
  },
  {
   "cell_type": "markdown",
   "id": "df2d5ead-871b-4b60-af6b-434c97431372",
   "metadata": {},
   "source": [
    "Après le chiffre de César, voyons la substitution monoalphabétique. Celle-ci consiste à utiliser une permutation où chaque lettre de l’alphabet sera remplacée par une autre lettre. Par exemple, tous les z du texte deviendront des e, et tous les s des t, etc."
   ]
  },
  {
   "cell_type": "markdown",
   "id": "5b4ce027-7d23-4720-88af-319c9ff77d13",
   "metadata": {},
   "source": [
    "```\n",
    "Le code de César est donc une substitution particulière.\n",
    "```"
   ]
  },
  {
   "cell_type": "markdown",
   "id": "f1d91594-4c9c-43c9-8927-a192b383ed34",
   "metadata": {},
   "source": [
    "### Les limites de la recherche exhaustive"
   ]
  },
  {
   "cell_type": "markdown",
   "id": "5bc82672-49a8-4aea-8ffd-2c392ed8ac4e",
   "metadata": {},
   "source": [
    "On pourrait se dire que la recherche exhaustive devrait fonctionner, non ? En théorie, oui, mais en pratique, calculons un peu le nombre de substitutions possibles : le a peut devenir un a, un b, … ou un z. Ça fait 26 possibilités. Le b peut devenir tout sauf la même chose que le a : 25 possibilités et ainsi de suite jusqu’au z. Cela fait en tout 26∗25∗...∗1=26! possibilités (403291461126605635584000000 pour être exact). Je vous laisse faire la recherche exhaustive si vous vous voulez, mais moi j’ai envie de trouver une solution avant la fin de l’univers.\n",
    "\n",
    "Il faut donc trouver mieux que la recherche exhaustive."
   ]
  },
  {
   "cell_type": "markdown",
   "id": "6a838352-4e2d-4a55-84d6-4f1bfbd74dad",
   "metadata": {},
   "source": [
    "### L’analyse de fréquences"
   ]
  },
  {
   "cell_type": "markdown",
   "id": "0c79a417-7234-4e19-bf7d-e493bc3e29f9",
   "metadata": {},
   "source": [
    "Petite réflexion : tous les e sont codés par la même lettre, disons f, donc s’il y a plein de e dans le texte initial, il doit y avoir plein de f dans le texte chiffré.\n",
    "\n",
    "Voici exactement le principe de l’analyse de fréquences. Dans une langue, toutes les lettres n’apparaissent pas à la même fréquence. Par exemple, en français, il y a beaucoup de e, a, i, l, mais peu de x, w ou k. Ainsi, il suffit de déterminer la fréquence des lettres dans le texte final, et en comparant avec les fréquences moyennes d’apparition, on devra pouvoir trouver directement la substitution. Seulement, comme on ne pourra pas vraiment déterminer les lettres ayant de faibles probabilités (pas assez d’occurrences pour avoir une moyenne significative), on utilisera ce procédé sur les lettres à fortes probabilités, et on finira à la main."
   ]
  },
  {
   "cell_type": "markdown",
   "id": "1345990d-5a42-4c48-87c6-d593954e4e21",
   "metadata": {},
   "source": [
    "```\n",
    "Cela ne fonctionne pas si le texte est trop court, car on a alors pas assez de lettres pour avoir des moyennes significatives. Imaginez une phrase comme celle-ci : Chez le vieux zinzin, vous buvez du whisky, il y a beaucoup trop de lettre rares, et ça pourrit complètement l’analyse de fréquences.\n",
    "```"
   ]
  },
  {
   "cell_type": "markdown",
   "id": "6e85f10a-a3ef-42fa-a6d0-f34f1ab6c4f0",
   "metadata": {},
   "source": [
    "Comme les fréquences des lettres changent en fonction de la langue (il y aura par exemple beaucoup plus de w en anglais qu’en français), on admet que l’on chiffre des messages en français.\n",
    "\n",
    "Voici une table des fréquences en français :"
   ]
  },
  {
   "cell_type": "markdown",
   "id": "4add4cf3-2ff4-4219-8661-a75f1dd594ee",
   "metadata": {},
   "source": [
    "-----------------\n",
    "Lettre : |\ta\t|b\t|c\t|d\t|e\t|f\t|g\t|h\t|i\t|j\t|k\t|l\t|m\t|n\t|o\t|p\t|q\t|r\t|s\t|t\t|u\t|v\t|w\t|x\t|y\t|z\n",
    "Fréquence :\t7.9|\t0.8|\t3.2|\t3.2|\t18.2|\t1.0|\t1.0|\t0.8|\t7.2|\t0.3|\t0.0|\t5.7|\t3.0|\t7.6|\t5.6|\t3.1|\t1.0|\t6.8|\t8.5|\t7.0|\t6.2|\t1.2|\t0.0|\t0.4|\t0.3|\t0.1|"
   ]
  },
  {
   "cell_type": "markdown",
   "id": "0d7038d9-50d2-4e9b-a5d2-4d5b557131de",
   "metadata": {},
   "source": []
  },
  {
   "cell_type": "markdown",
   "id": "5ca68500-f193-4d11-bde1-1d7de9396dfa",
   "metadata": {},
   "source": []
  },
  {
   "cell_type": "markdown",
   "id": "57431821-7122-44ff-95dd-5f12d195b9d6",
   "metadata": {},
   "source": []
  },
  {
   "cell_type": "markdown",
   "id": "277d0dbc-1a16-40d1-93ee-526c4c5a1e9d",
   "metadata": {},
   "source": []
  },
  {
   "cell_type": "markdown",
   "id": "c14c2d1f-642a-4dc4-b015-e236189d6933",
   "metadata": {},
   "source": []
  }
 ],
 "metadata": {
  "kernelspec": {
   "display_name": "Python 3 (ipykernel)",
   "language": "python",
   "name": "python3"
  },
  "language_info": {
   "codemirror_mode": {
    "name": "ipython",
    "version": 3
   },
   "file_extension": ".py",
   "mimetype": "text/x-python",
   "name": "python",
   "nbconvert_exporter": "python",
   "pygments_lexer": "ipython3",
   "version": "3.9.13"
  }
 },
 "nbformat": 4,
 "nbformat_minor": 5
}
